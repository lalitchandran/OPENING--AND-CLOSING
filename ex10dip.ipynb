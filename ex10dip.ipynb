{
 "cells": [
  {
   "cell_type": "code",
   "execution_count": 9,
   "id": "0a3b5ed4-325e-4a3d-a5cf-47f40583d82c",
   "metadata": {},
   "outputs": [],
   "source": [
    "import cv2\n",
    "import numpy as np\n",
    "import matplotlib.pyplot as plt\n"
   ]
  },
  {
   "cell_type": "code",
   "execution_count": 10,
   "id": "e4f2923c-de51-4a1a-bc8d-f345fb767ab1",
   "metadata": {},
   "outputs": [],
   "source": [
    "img1=np.zeros((300,600),dtype='uint8')\n",
    "font=cv2.FONT_ITALIC\n",
    "img2=cv2.putText(img1,\"S.LALIT\",(5,100),font,3,(255,0,0),5,cv2.LINE_AA)\n",
    "cv2.imshow(\"Original\",img2)\n",
    "cv2.waitKey(0)\n",
    "cv2.destroyAllWindows()\n"
   ]
  },
  {
   "cell_type": "code",
   "execution_count": 11,
   "id": "af96f44a-6546-45ae-88a0-6bded5090183",
   "metadata": {},
   "outputs": [],
   "source": [
    "#kernel1=cv2.getStructuringElement(cv2.MORPH_RECT,(21,21))\n",
    "#kernel2=cv2.getStructuringElement(cv2.MORPH_RECT,(9,9))\n",
    "kernel1=cv2.getStructuringElement(cv2.MORPH_RECT,(11,11))\n",
    "kernel2=cv2.getStructuringElement(cv2.MORPH_RECT,(5,5))\n"
   ]
  },
  {
   "cell_type": "code",
   "execution_count": 12,
   "id": "bdb58162-0e26-4e44-a557-8c0fe8b52000",
   "metadata": {},
   "outputs": [],
   "source": [
    "img4=cv2.morphologyEx(img1,cv2.MORPH_OPEN,kernel2)\n",
    "cv2.imshow(\"Opening\",img4)\n",
    "cv2.waitKey(0)\n",
    "cv2.destroyAllWindows()\n"
   ]
  },
  {
   "cell_type": "code",
   "execution_count": null,
   "id": "fc76303a-0c71-4511-a9ba-6b52d63be17d",
   "metadata": {},
   "outputs": [],
   "source": [
    "img3=cv2.morphologyEx(img1,cv2.MORPH_CLOSE,kernel1)\n",
    "cv2.imshow(\"Closing\",img3)\n",
    "cv2.waitKey(0)\n",
    "cv2.destroyAllWindows()"
   ]
  },
  {
   "cell_type": "code",
   "execution_count": null,
   "id": "e51bd853-3713-42c3-b623-6dd8bca8d5af",
   "metadata": {},
   "outputs": [],
   "source": []
  }
 ],
 "metadata": {
  "kernelspec": {
   "display_name": "Python 3 (ipykernel)",
   "language": "python",
   "name": "python3"
  },
  "language_info": {
   "codemirror_mode": {
    "name": "ipython",
    "version": 3
   },
   "file_extension": ".py",
   "mimetype": "text/x-python",
   "name": "python",
   "nbconvert_exporter": "python",
   "pygments_lexer": "ipython3",
   "version": "3.12.4"
  }
 },
 "nbformat": 4,
 "nbformat_minor": 5
}
